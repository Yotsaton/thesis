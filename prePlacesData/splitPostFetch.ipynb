{
 "cells": [
  {
   "cell_type": "code",
   "execution_count": 22,
   "id": "d3d2f66f",
   "metadata": {},
   "outputs": [],
   "source": [
    "import pandas as pd\n",
    "import numpy as np"
   ]
  },
  {
   "cell_type": "code",
   "execution_count": 23,
   "id": "a01272cc",
   "metadata": {},
   "outputs": [],
   "source": [
    "df = pd.read_csv(\"postPlacesFetch.csv\")\n",
    "df1 = df[df['match_result'] == 'ตรง']\n",
    "df2 = df[df['match_result'] == 'ไม่แน่ใจ (ต้องตรวจซ้ำ)']\n",
    "df3 = df[df['match_result'] == 'ไม่ตรง']\n",
    "new_order = [\n",
    "  \"original_index\", \"match_result\", \"score_reasons\", \"score\", \"distance_m\", \"expected_type\",\n",
    "  \"textQuery\", \"api_name\", \"original_detail\", \"api_types\", \"api_formattedAddress\", \n",
    "  \"api_location\", \"api_rating\", \"api_userRatingCount\", \"api_placeId\", \"api_URI\" \n",
    "]"
   ]
  },
  {
   "cell_type": "code",
   "execution_count": 24,
   "id": "6eb46d7c",
   "metadata": {},
   "outputs": [
    {
     "name": "stdout",
     "output_type": "stream",
     "text": [
      "Mean score for 'ตรง': 11.132313417407484\n",
      "Mean distance for 'ตรง': 174.60399214389085\n"
     ]
    }
   ],
   "source": [
    "meanScore = df1['score'].mean()\n",
    "meanDistance = df1['distance_m'].mean()\n",
    "print(f\"Mean score for 'ตรง': {meanScore}\")\n",
    "print(f\"Mean distance for 'ตรง': {meanDistance}\")\n",
    "df1 = df1.reindex(columns=new_order)\n",
    "df1.to_csv(\"postPlacesFetch.correct.csv\", index=False)"
   ]
  },
  {
   "cell_type": "code",
   "execution_count": 25,
   "id": "22e2a13a",
   "metadata": {},
   "outputs": [
    {
     "name": "stdout",
     "output_type": "stream",
     "text": [
      "Mean score for 'ไม่แน่ใจ (ต้องตรวจซ้ำ)': 7.4575268817204305\n",
      "Mean distance for 'ไม่แน่ใจ (ต้องตรวจซ้ำ)': 3584.457569892473\n"
     ]
    }
   ],
   "source": [
    "meanScore = df2['score'].mean()\n",
    "meanDistance = df2['distance_m'].mean()\n",
    "print(f\"Mean score for 'ไม่แน่ใจ (ต้องตรวจซ้ำ)': {meanScore}\")\n",
    "print(f\"Mean distance for 'ไม่แน่ใจ (ต้องตรวจซ้ำ)': {meanDistance}\")\n",
    "df2 = df2.reindex(columns=new_order)\n",
    "df2.to_csv(\"postPlacesFetch.uncertain.csv\", index=False)"
   ]
  },
  {
   "cell_type": "code",
   "execution_count": 26,
   "id": "55be86ce",
   "metadata": {},
   "outputs": [
    {
     "name": "stdout",
     "output_type": "stream",
     "text": [
      "Mean score for 'ไม่ตรง': 4.251150558842866\n",
      "Mean distance for 'ไม่ตรง': 36965.40098026316\n"
     ]
    }
   ],
   "source": [
    "meanScore = df3['score'].mean()\n",
    "meanDistance = df3['distance_m'].mean()\n",
    "print(f\"Mean score for 'ไม่ตรง': {meanScore}\")\n",
    "print(f\"Mean distance for 'ไม่ตรง': {meanDistance}\")\n",
    "df3 = df3.reindex(columns=new_order)\n",
    "df3.to_csv(\"postPlacesFetch.incorrect.csv\", index=False)"
   ]
  },
  {
   "cell_type": "code",
   "execution_count": 27,
   "id": "041103bc",
   "metadata": {},
   "outputs": [
    {
     "data": {
      "text/plain": [
       "original_index          3381\n",
       "match_result            3381\n",
       "score_reasons           3381\n",
       "score                   3381\n",
       "distance_m              3380\n",
       "expected_type           3381\n",
       "textQuery               3381\n",
       "api_name                3381\n",
       "original_detail         3315\n",
       "api_types               3381\n",
       "api_formattedAddress    3380\n",
       "api_location            3381\n",
       "api_rating              3045\n",
       "api_userRatingCount     3045\n",
       "api_placeId             3381\n",
       "api_URI                 3381\n",
       "dtype: int64"
      ]
     },
     "execution_count": 27,
     "metadata": {},
     "output_type": "execute_result"
    }
   ],
   "source": [
    "df2.count() + df3.count()"
   ]
  },
  {
   "cell_type": "code",
   "execution_count": null,
   "id": "61c4e4db",
   "metadata": {},
   "outputs": [],
   "source": []
  }
 ],
 "metadata": {
  "kernelspec": {
   "display_name": "base",
   "language": "python",
   "name": "python3"
  },
  "language_info": {
   "codemirror_mode": {
    "name": "ipython",
    "version": 3
   },
   "file_extension": ".py",
   "mimetype": "text/x-python",
   "name": "python",
   "nbconvert_exporter": "python",
   "pygments_lexer": "ipython3",
   "version": "3.12.3"
  }
 },
 "nbformat": 4,
 "nbformat_minor": 5
}
