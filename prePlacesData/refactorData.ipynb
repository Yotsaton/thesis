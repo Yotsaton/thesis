{
 "cells": [
  {
   "cell_type": "code",
   "execution_count": 6,
   "id": "3d5f5e2d",
   "metadata": {},
   "outputs": [],
   "source": [
    "import pandas as pd\n",
    "import ast # ใช้สำหรับแปลง string ที่หน้าตาเหมือน dictionary/list ให้เป็น object จริงๆ"
   ]
  },
  {
   "cell_type": "code",
   "execution_count": 7,
   "id": "3d073852",
   "metadata": {},
   "outputs": [],
   "source": [
    "# --- ฟังก์ชันสำหรับแปลง category ให้อยู่ในรูปแบบ PostgreSQL array ---\n",
    "def format_category_for_postgres_array(category_str):\n",
    "    \"\"\"\n",
    "    แปลงสตริงที่มี comma-separated values (เช่น \"a, b, c\")\n",
    "    ให้อยู่ในรูปแบบ PostgreSQL array literal (เช่น '{\"a\",\"b\",\"c\"}')\n",
    "    \"\"\"\n",
    "    # ถ้าค่าเป็นค่าว่าง (NaN) หรือสตริงว่าง, ให้คืนค่าเป็น array ว่างของ PostgreSQL\n",
    "    if pd.isna(category_str) or not category_str:\n",
    "        return '{}'\n",
    "    \n",
    "    # 1. แยกสตริงด้วยเครื่องหมาย comma\n",
    "    # 2. ตัดช่องว่างที่ไม่จำเป็นออกจากแต่ละส่วน\n",
    "    # 3. ใส่ double quote (\") คร่อมแต่ละส่วน\n",
    "    items = [f'\"{item.strip()}\"' for item in category_str.split(',')]\n",
    "    \n",
    "    # 4. รวมทุกส่วนเข้าด้วยกันคั่นด้วย comma และครอบทั้งหมดด้วย {}\n",
    "    return f\"{{{','.join(items)}}}\"\n"
   ]
  },
  {
   "cell_type": "code",
   "execution_count": 8,
   "id": "aa3b504e",
   "metadata": {},
   "outputs": [
    {
     "name": "stdout",
     "output_type": "stream",
     "text": [
      "File loaded successfully!\n"
     ]
    }
   ],
   "source": [
    "# --- 1. โหลดไฟล์ CSV ---\n",
    "try:\n",
    "    df = pd.read_csv('postPlacesFetch.correct.csv')\n",
    "    print(\"File loaded successfully!\")\n",
    "except FileNotFoundError:\n",
    "    print(\"Error: 'postPlacesFetch.correct.csv' not found. Please make sure the file is in the same directory as the script.\")\n",
    "    exit()"
   ]
  },
  {
   "cell_type": "code",
   "execution_count": 9,
   "id": "5608fbf4",
   "metadata": {},
   "outputs": [],
   "source": [
    "# --- 2. สร้าง DataFrame ใหม่ตามโครงสร้างของตาราง SQL ---\n",
    "\n",
    "column_mapping = {\n",
    "    'api_name': 'name_place',\n",
    "    'api_formattedAddress': 'address',\n",
    "    'api_location': 'location',\n",
    "    'api_rating': 'rating',\n",
    "    'api_userRatingCount': 'user_rating_total',\n",
    "    'original_detail': 'sumary_place',\n",
    "    'api_placeId': 'place_id_by_ggm',\n",
    "    'api_types': 'category', # คอลัมน์เป้าหมายของเรา\n",
    "    'api_URI': 'url'\n",
    "}\n",
    "\n",
    "df_transformed = df[column_mapping.keys()].rename(columns=column_mapping)"
   ]
  },
  {
   "cell_type": "code",
   "execution_count": 10,
   "id": "5ffab7ff",
   "metadata": {},
   "outputs": [],
   "source": [
    "# --- 3. แปลงข้อมูลในแต่ละคอลัมน์ ---\n",
    "\n",
    "# ฟังก์ชันสำหรับดึงค่า latitude และ longitude\n",
    "def extract_lat_lon(location_str):\n",
    "    try:\n",
    "        location_dict = ast.literal_eval(str(location_str))\n",
    "        if isinstance(location_dict, dict):\n",
    "            return location_dict.get('latitude'), location_dict.get('longitude')\n",
    "    except (ValueError, SyntaxError, TypeError):\n",
    "        return None, None\n",
    "    return None, None\n",
    "\n",
    "df_transformed[['lat', 'lon']] = df_transformed['location'].apply(\n",
    "    lambda x: pd.Series(extract_lat_lon(x))\n",
    ")\n",
    "\n",
    "# จัดการชนิดข้อมูล\n",
    "df_transformed['rating'] = pd.to_numeric(df_transformed['rating'], errors='coerce')\n",
    "df_transformed['user_rating_total'] = pd.to_numeric(df_transformed['user_rating_total'], errors='coerce').fillna(0).astype(int)\n",
    "\n",
    "# เติมค่าว่างในคอลัมน์ที่เป็นข้อความ\n",
    "text_columns = ['name_place', 'address', 'sumary_place', 'place_id_by_ggm', 'url']\n",
    "for col in text_columns:\n",
    "    df_transformed[col] = df_transformed[col].fillna('')\n",
    "    \n",
    "# *** ใช้ฟังก์ชันใหม่กับคอลัมน์ category ***\n",
    "df_transformed['category'] = df_transformed['category'].apply(format_category_for_postgres_array)"
   ]
  },
  {
   "cell_type": "code",
   "execution_count": 11,
   "id": "d3e2abbe",
   "metadata": {},
   "outputs": [],
   "source": [
    "# --- 4. จัดเรียงคอลัมน์และสร้างไฟล์ CSV สุดท้าย ---\n",
    "\n",
    "final_columns = [\n",
    "    'name_place',\n",
    "    'address',\n",
    "    'lat',\n",
    "    'lon',\n",
    "    'rating',\n",
    "    'user_rating_total',\n",
    "    'sumary_place',\n",
    "    'place_id_by_ggm',\n",
    "    'category',\n",
    "    'url'\n",
    "]\n",
    "df_final = df_transformed[final_columns]\n",
    "\n",
    "output_filename = 'tmp_place_import.csv'\n",
    "# ใช้ tab เป็นตัวคั่น (delimiter) เพื่อหลีกเลี่ยงปัญหากับ comma ที่อยู่ในข้อมูล\n",
    "df_final.to_csv(output_filename, index=False, header=True, encoding='utf-8')"
   ]
  }
 ],
 "metadata": {
  "kernelspec": {
   "display_name": "base",
   "language": "python",
   "name": "python3"
  },
  "language_info": {
   "codemirror_mode": {
    "name": "ipython",
    "version": 3
   },
   "file_extension": ".py",
   "mimetype": "text/x-python",
   "name": "python",
   "nbconvert_exporter": "python",
   "pygments_lexer": "ipython3",
   "version": "3.12.3"
  }
 },
 "nbformat": 4,
 "nbformat_minor": 5
}
